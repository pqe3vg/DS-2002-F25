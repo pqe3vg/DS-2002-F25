{
 "cells": [
  {
   "cell_type": "code",
   "execution_count": 1,
   "id": "e4ee1a90",
   "metadata": {},
   "outputs": [
    {
     "name": "stdout",
     "output_type": "stream",
     "text": [
      "CSV file\n"
     ]
    }
   ],
   "source": [
    "import csv\n",
    "\n",
    "student_data = [\n",
    "    [\"student_id\", \"major\", \"GPA\", \"is_cs_major\", \"credits_taken\"],\n",
    "   [5674, \"Biology\", 3.8, True, 32.0], \n",
    "   [9325, \"Economics\", 3, \"No\", \"22.5\"],\n",
    "   [1704, \"History\", 4, False, 18.0],\n",
    "   [8839, \"Data Science\", 3.6, \"Yes\", 28],\n",
    "   [1260, \"Education\", 3.9, True, 30]\n",
    "   ]\n",
    "\n",
    "with open(\"raw_survey_data.csv\", \"w\", newline=\"\") as file:\n",
    "    writer = csv.writer(file)\n",
    "    writer.writerows(student_data)  \n",
    "\n",
    "print(\"CSV file\")     \n",
    "\n",
    "\n"
   ]
  },
  {
   "cell_type": "code",
   "execution_count": 2,
   "id": "ecbc8336",
   "metadata": {},
   "outputs": [
    {
     "name": "stdout",
     "output_type": "stream",
     "text": [
      "JSON file, Course Catalog\n"
     ]
    }
   ],
   "source": [
    "import json\n",
    "course_catalog = [\n",
    "  {\n",
    "    \"course_id\": \"DS2002\",\n",
    "    \"section\": \"001\",\n",
    "    \"title\": \"Data Science Systems\",\n",
    "    \"level\": 200,\n",
    "    \"instructors\": [\n",
    "      {\"name\": \"Austin Rivera\", \"role\": \"Primary\"}, \n",
    "      {\"name\": \"Heywood Williams-Tracy\", \"role\": \"TA\"} \n",
    "    ]\n",
    "  },\n",
    "  {\n",
    "    \"course_id\": \"MDST4510\",\n",
    "    \"section\": \"005\",\n",
    "    \"title\": \"Global Environmental Media\",\n",
    "    \"level\": 400,\n",
    "    \"instructors\": [\n",
    "      {\"name\": \"Aynne Kokas\", \"role\": \"Primary\"}\n",
    "    ]\n",
    "  },\n",
    "  {\n",
    "    \"course_id\": \"MDST3050\",\n",
    "    \"section\": \"001\",\n",
    "    \"title\": \"History of Media\",\n",
    "    \"level\": 300,\n",
    "    \"instructors\": [\n",
    "      {\"name\": \"Kevin Driscoll\", \"role\": \"Primary\"},\n",
    "      {\"name\": \"Weilin Zhu\", \"role\": \"TA\"}\n",
    "    ]\n",
    "  }\n",
    "]\n",
    "\n",
    "with open(\"raw_course_catalog.json\", \"w\") as json_file:\n",
    "    json.dump(course_catalog, json_file, indent=4)\n",
    "\n",
    "print (\"JSON file, Course Catalog\")"
   ]
  },
  {
   "cell_type": "code",
   "execution_count": 3,
   "id": "26bc5032",
   "metadata": {},
   "outputs": [
    {
     "name": "stdout",
     "output_type": "stream",
     "text": [
      "   student_id         major  GPA is_cs_major  credits_taken\n",
      "0        5674       Biology  3.8        True           32.0\n",
      "1        9325     Economics  3.0       False           22.5\n",
      "2        1704       History  4.0       False           18.0\n",
      "3        8839  Data Science  3.6        True           28.0\n",
      "4        1260     Education  3.9        True           30.0\n"
     ]
    }
   ],
   "source": [
    "import pandas as pd\n",
    "\n",
    "df = pd.read_csv(\"raw_survey_data.csv\")\n",
    "\n",
    "df['is_cs_major'] = df['is_cs_major'].replace({'Yes': True, 'No': False})\n",
    "\n",
    "df = df.astype({\n",
    "    'GPA': 'float',\n",
    "    'credits_taken': 'float'\n",
    "})\n",
    "\n",
    "df.to_csv(\"clean_survey_data.csv\", index=False)\n",
    "\n",
    "print(df.head())\n",
    "\n"
   ]
  },
  {
   "cell_type": "code",
   "execution_count": 4,
   "id": "0fa99473",
   "metadata": {},
   "outputs": [
    {
     "name": "stdout",
     "output_type": "stream",
     "text": [
      "                     name     role course_id                       title level\n",
      "0           Austin Rivera  Primary    DS2002        Data Science Systems   200\n",
      "1  Heywood Williams-Tracy       TA    DS2002        Data Science Systems   200\n",
      "2             Aynne Kokas  Primary  MDST4510  Global Environmental Media   400\n",
      "3          Kevin Driscoll  Primary  MDST3050            History of Media   300\n",
      "4              Weilin Zhu       TA  MDST3050            History of Media   300\n"
     ]
    }
   ],
   "source": [
    "with open(\"raw_course_catalog.json\", \"r\") as f:\n",
    "    course_catalog = json.load(f)\n",
    "\n",
    "\n",
    "df_courses = pd.json_normalize(course_catalog, \n",
    "                               record_path=['instructors'], \n",
    "                               meta=['course_id', 'title', 'level'])\n",
    "\n",
    "df_courses.to_csv(\"clean_course_catalog.csv\", index=False)\n",
    "\n",
    "\n",
    "print(df_courses)"
   ]
  },
  {
   "cell_type": "markdown",
   "id": "9713e960",
   "metadata": {},
   "source": [
    "| Column Name | Required Data Type | Breif Description |\n",
    "| :--- | :--- | :--- |\n",
    "| `student_id` | `INT` | Unique identifier for the student. |\n",
    "| `major` | `VARCHAR(30)` | Student's major. |\n",
    "| `GPA` | `FLOAT` | Grade Point Average of the student. |\n",
    "| `is_cs_major` | `BOOL` | Indicates if the student is a CS major. |\n",
    "| `credits_taken` | `FLOAT` | Total credits the student has taken. | "
   ]
  },
  {
   "cell_type": "markdown",
   "id": "0a7ac43a",
   "metadata": {},
   "source": [
    "| Name | Role | Course_id | Title | Level |\n",
    "| :--- | :--- | :--- | :--- | :--- |\n",
    "| `Austin Rivera` | `Primary` | DS2002 | Data Science Systems | 200 |\n",
    "| `Heywood Williams-Tracy` | `TA` | DS2002 | Data Science Systems | 200 |\n",
    "| `Aynne Kokas` | `Primary` | MDST4510 | Global Environmental Media | 400 |\n",
    "| `Kevin Driscoll` | `Primary` | MDST3050 | History of Media | 300 |\n",
    "| `Weilin Zhu` | `TA` | MDST3050 | History of Media | 300 |\n"
   ]
  }
 ],
 "metadata": {
  "kernelspec": {
   "display_name": "Python 3",
   "language": "python",
   "name": "python3"
  },
  "language_info": {
   "codemirror_mode": {
    "name": "ipython",
    "version": 3
   },
   "file_extension": ".py",
   "mimetype": "text/x-python",
   "name": "python",
   "nbconvert_exporter": "python",
   "pygments_lexer": "ipython3",
   "version": "3.12.1"
  }
 },
 "nbformat": 4,
 "nbformat_minor": 5
}
